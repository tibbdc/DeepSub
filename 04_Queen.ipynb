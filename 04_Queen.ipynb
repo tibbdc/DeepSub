{
 "cells": [
  {
   "cell_type": "code",
   "execution_count": 1,
   "metadata": {},
   "outputs": [
    {
     "name": "stderr",
     "output_type": "stream",
     "text": [
      "2024-03-28 03:18:04.701187: E tensorflow/compiler/xla/stream_executor/cuda/cuda_dnn.cc:9342] Unable to register cuDNN factory: Attempting to register factory for plugin cuDNN when one has already been registered\n",
      "2024-03-28 03:18:04.701229: E tensorflow/compiler/xla/stream_executor/cuda/cuda_fft.cc:609] Unable to register cuFFT factory: Attempting to register factory for plugin cuFFT when one has already been registered\n",
      "2024-03-28 03:18:04.701266: E tensorflow/compiler/xla/stream_executor/cuda/cuda_blas.cc:1518] Unable to register cuBLAS factory: Attempting to register factory for plugin cuBLAS when one has already been registered\n",
      "2024-03-28 03:18:04.711227: I tensorflow/core/platform/cpu_feature_guard.cc:182] This TensorFlow binary is optimized to use available CPU instructions in performance-critical operations.\n",
      "To enable the following instructions: AVX2 AVX512F FMA, in other operations, rebuild TensorFlow with the appropriate compiler flags.\n",
      "2024-03-28 03:18:06.888270: W tensorflow/compiler/tf2tensorrt/utils/py_utils.cc:38] TF-TRT Warning: Could not find TensorRT\n"
     ]
    }
   ],
   "source": [
    "import pandas as pd\n",
    "import numpy as np\n",
    "from sklearn.model_selection import train_test_split\n",
    "import pickle\n",
    "from keras.models import load_model\n",
    "from sklearn.metrics import classification_report\n",
    "import warnings \n",
    "warnings.filterwarnings('ignore')"
   ]
  },
  {
   "cell_type": "code",
   "execution_count": 2,
   "metadata": {},
   "outputs": [],
   "source": [
    "# Load data\n",
    "test = pd.read_csv('./DATA/quenn.csv')\n",
    "feature = pd.read_feather('./featurebank/feature_esm2.feather')\n",
    "test = test.merge(feature,on='uniprot_id',how='left')"
   ]
  },
  {
   "cell_type": "code",
   "execution_count": 3,
   "metadata": {},
   "outputs": [
    {
     "name": "stdout",
     "output_type": "stream",
     "text": [
      "These are the predicted labels:\n",
      "[1 1 2 ... 2 2 1]\n"
     ]
    }
   ],
   "source": [
    "# Load model\n",
    "model_location = \"./model/QUEEN_MLPmodel_final.pkl\"\n",
    "with open(model_location, \"rb\") as f:\n",
    "  QUEEN_model = pickle.load(f)\n",
    "  \n",
    "# Queen pred\n",
    "y_test = QUEEN_model.predict(np.array(test.iloc[:,3:]))\n",
    "inv_map = {0: 1, 1: 2, 2: 3, 3: 4, 4: 5, 5: 6, 6: 7, 7: 8, 8: 10, 9: 12, 10: 14, 11: 24}\n",
    "\n",
    "y_test_transformed = np.array([inv_map[x] for x in y_test])\n",
    "print(\"These are the predicted labels:\")\n",
    "print(y_test_transformed)"
   ]
  },
  {
   "cell_type": "code",
   "execution_count": 4,
   "metadata": {},
   "outputs": [],
   "source": [
    "res = test[['uniprot_id','label']]\n",
    "res['pred'] = y_test_transformed"
   ]
  },
  {
   "cell_type": "code",
   "execution_count": 5,
   "metadata": {},
   "outputs": [
    {
     "data": {
      "text/html": [
       "<div>\n",
       "<style scoped>\n",
       "    .dataframe tbody tr th:only-of-type {\n",
       "        vertical-align: middle;\n",
       "    }\n",
       "\n",
       "    .dataframe tbody tr th {\n",
       "        vertical-align: top;\n",
       "    }\n",
       "\n",
       "    .dataframe thead th {\n",
       "        text-align: right;\n",
       "    }\n",
       "</style>\n",
       "<table border=\"1\" class=\"dataframe\">\n",
       "  <thead>\n",
       "    <tr style=\"text-align: right;\">\n",
       "      <th></th>\n",
       "      <th>precision</th>\n",
       "      <th>recall</th>\n",
       "      <th>f1-score</th>\n",
       "      <th>support</th>\n",
       "    </tr>\n",
       "  </thead>\n",
       "  <tbody>\n",
       "    <tr>\n",
       "      <th>1</th>\n",
       "      <td>0.606737</td>\n",
       "      <td>0.773979</td>\n",
       "      <td>0.680230</td>\n",
       "      <td>4212.0</td>\n",
       "    </tr>\n",
       "    <tr>\n",
       "      <th>2</th>\n",
       "      <td>0.837628</td>\n",
       "      <td>0.710824</td>\n",
       "      <td>0.769034</td>\n",
       "      <td>10153.0</td>\n",
       "    </tr>\n",
       "    <tr>\n",
       "      <th>3</th>\n",
       "      <td>0.639175</td>\n",
       "      <td>0.710828</td>\n",
       "      <td>0.673100</td>\n",
       "      <td>785.0</td>\n",
       "    </tr>\n",
       "    <tr>\n",
       "      <th>4</th>\n",
       "      <td>0.732531</td>\n",
       "      <td>0.689760</td>\n",
       "      <td>0.710503</td>\n",
       "      <td>2295.0</td>\n",
       "    </tr>\n",
       "    <tr>\n",
       "      <th>5</th>\n",
       "      <td>0.914894</td>\n",
       "      <td>0.304965</td>\n",
       "      <td>0.457447</td>\n",
       "      <td>141.0</td>\n",
       "    </tr>\n",
       "    <tr>\n",
       "      <th>6</th>\n",
       "      <td>0.599159</td>\n",
       "      <td>0.699673</td>\n",
       "      <td>0.645527</td>\n",
       "      <td>1222.0</td>\n",
       "    </tr>\n",
       "    <tr>\n",
       "      <th>7</th>\n",
       "      <td>0.250000</td>\n",
       "      <td>0.333333</td>\n",
       "      <td>0.285714</td>\n",
       "      <td>3.0</td>\n",
       "    </tr>\n",
       "    <tr>\n",
       "      <th>8</th>\n",
       "      <td>0.150327</td>\n",
       "      <td>0.300654</td>\n",
       "      <td>0.200436</td>\n",
       "      <td>153.0</td>\n",
       "    </tr>\n",
       "    <tr>\n",
       "      <th>10</th>\n",
       "      <td>0.864078</td>\n",
       "      <td>0.868293</td>\n",
       "      <td>0.866180</td>\n",
       "      <td>205.0</td>\n",
       "    </tr>\n",
       "    <tr>\n",
       "      <th>12</th>\n",
       "      <td>0.361446</td>\n",
       "      <td>0.937500</td>\n",
       "      <td>0.521739</td>\n",
       "      <td>96.0</td>\n",
       "    </tr>\n",
       "    <tr>\n",
       "      <th>micro avg</th>\n",
       "      <td>0.718046</td>\n",
       "      <td>0.717934</td>\n",
       "      <td>0.717990</td>\n",
       "      <td>19265.0</td>\n",
       "    </tr>\n",
       "    <tr>\n",
       "      <th>macro avg</th>\n",
       "      <td>0.595597</td>\n",
       "      <td>0.632981</td>\n",
       "      <td>0.580991</td>\n",
       "      <td>19265.0</td>\n",
       "    </tr>\n",
       "    <tr>\n",
       "      <th>weighted avg</th>\n",
       "      <td>0.744338</td>\n",
       "      <td>0.717934</td>\n",
       "      <td>0.723832</td>\n",
       "      <td>19265.0</td>\n",
       "    </tr>\n",
       "  </tbody>\n",
       "</table>\n",
       "</div>"
      ],
      "text/plain": [
       "              precision    recall  f1-score  support\n",
       "1              0.606737  0.773979  0.680230   4212.0\n",
       "2              0.837628  0.710824  0.769034  10153.0\n",
       "3              0.639175  0.710828  0.673100    785.0\n",
       "4              0.732531  0.689760  0.710503   2295.0\n",
       "5              0.914894  0.304965  0.457447    141.0\n",
       "6              0.599159  0.699673  0.645527   1222.0\n",
       "7              0.250000  0.333333  0.285714      3.0\n",
       "8              0.150327  0.300654  0.200436    153.0\n",
       "10             0.864078  0.868293  0.866180    205.0\n",
       "12             0.361446  0.937500  0.521739     96.0\n",
       "micro avg      0.718046  0.717934  0.717990  19265.0\n",
       "macro avg      0.595597  0.632981  0.580991  19265.0\n",
       "weighted avg   0.744338  0.717934  0.723832  19265.0"
      ]
     },
     "execution_count": 5,
     "metadata": {},
     "output_type": "execute_result"
    }
   ],
   "source": [
    "res = pd.DataFrame(classification_report(res[\"label\"].values, res[\"pred\"].values, labels=list(set(res.label)),zero_division=0, output_dict=True)).T\n",
    "res.to_csv(\"output/queen_report.csv\")\n",
    "res"
   ]
  }
 ],
 "metadata": {
  "kernelspec": {
   "display_name": "deepsub",
   "language": "python",
   "name": "python3"
  },
  "language_info": {
   "codemirror_mode": {
    "name": "ipython",
    "version": 3
   },
   "file_extension": ".py",
   "mimetype": "text/x-python",
   "name": "python",
   "nbconvert_exporter": "python",
   "pygments_lexer": "ipython3",
   "version": "3.9.18"
  },
  "orig_nbformat": 4
 },
 "nbformat": 4,
 "nbformat_minor": 2
}
