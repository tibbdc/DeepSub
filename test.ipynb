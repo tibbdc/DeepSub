{
 "cells": [
  {
   "cell_type": "code",
   "execution_count": 1,
   "metadata": {},
   "outputs": [
    {
     "name": "stderr",
     "output_type": "stream",
     "text": [
      "Using TensorFlow backend.\n"
     ]
    }
   ],
   "source": [
    "'''\n",
    "Author: DengRui\n",
    "Date: 2023-09-11 02:10:21\n",
    "LastEditors: DengRui\n",
    "LastEditTime: 2023-09-11 02:20:39\n",
    "FilePath: /DeepSub/dataprocess/get_train_test.ipynb\n",
    "Description:  get train and test data\n",
    "Copyright (c) 2023 by DengRui, All Rights Reserved. \n",
    "'''\n",
    "import pandas as pd\n",
    "import numpy as np\n",
    "from sklearn.model_selection import train_test_split\n",
    "import pickle\n",
    "import sys,os\n",
    "sys.path.append(os.path.dirname(os.path.realpath('__file__')))\n",
    "sys.path.append('./tool/')\n",
    "from att import Attention\n",
    "from keras.models import load_model"
   ]
  },
  {
   "attachments": {},
   "cell_type": "markdown",
   "metadata": {},
   "source": [
    "# data load"
   ]
  },
  {
   "cell_type": "code",
   "execution_count": 3,
   "metadata": {},
   "outputs": [],
   "source": [
    "# load dataset and features\n",
    "dataset  = pd.read_csv('./DATA/Dataset_0724.csv')\n",
    "dataset = dataset.rename(columns={'Entry':'uniprot_id','Sequence':'seq'})\n",
    "feature = pd.read_feather('./DATA/feature_esm2_20230911.feather')\n",
    "dataset = dataset.merge(feature,on='uniprot_id',how='left')"
   ]
  },
  {
   "cell_type": "code",
   "execution_count": null,
   "metadata": {},
   "outputs": [],
   "source": [
    "train_data, test_data = train_test_split(dataset, test_size=0.1, random_state=42)\n",
    "test_set = test_data.copy()\n",
    "train_set = train_data.copy()"
   ]
  },
  {
   "attachments": {},
   "cell_type": "markdown",
   "metadata": {},
   "source": [
    "# baseline predict"
   ]
  },
  {
   "attachments": {},
   "cell_type": "markdown",
   "metadata": {},
   "source": [
    "### queen "
   ]
  },
  {
   "cell_type": "code",
   "execution_count": null,
   "metadata": {},
   "outputs": [],
   "source": [
    "# load model\n",
    "model_location = \"../model/queen/QUEEN_MLPmodel_final.pkl\"\n",
    "with open(model_location, \"rb\") as f:\n",
    "  QUEEN_model = pickle.load(f)\n",
    "  \n",
    "# queen pred\n",
    "y_test = QUEEN_model.predict(np.array(test_set.iloc[:,3:]))\n",
    "inv_map = {0: 1, 1: 2, 2: 3, 3: 4, 4: 5, 5: 6, 6: 7, 7: 8, 8: 10, 9: 12, 10: 14, 11: 24}\n",
    "y_test_transformed = np.array([inv_map[x] for x in y_test])\n",
    "print(\"These are the predicted labels:\")\n",
    "print(y_test_transformed)"
   ]
  },
  {
   "attachments": {},
   "cell_type": "markdown",
   "metadata": {},
   "source": [
    "### ml"
   ]
  },
  {
   "cell_type": "code",
   "execution_count": null,
   "metadata": {},
   "outputs": [],
   "source": [
    "# to do list"
   ]
  },
  {
   "attachments": {},
   "cell_type": "markdown",
   "metadata": {},
   "source": [
    "### deepsub"
   ]
  },
  {
   "cell_type": "code",
   "execution_count": null,
   "metadata": {},
   "outputs": [],
   "source": [
    "model = load_model(\"../model/deepsub/deepsub.h5\",custom_objects={\"Attention\": Attention},compile=False)\n",
    "predicted = model.predict(np.array(test_data.iloc[:,3:]).reshape(test_data.shape[0],1,-1))\n",
    "predicted_labels = np.argmax(predicted, axis=1)\n",
    "label_map = {0: 1, 1: 2, 2: 3, 3: 4, 4: 5, 5: 6, 6: 7, 7: 8, 8: 10, 9: 12}\n",
    "y_test_transformed = [label_map[x] for x in predicted_labels]\n",
    "print(\"These are the predicted labels:\")\n",
    "print(y_test_transformed)"
   ]
  }
 ],
 "metadata": {
  "kernelspec": {
   "display_name": "wk",
   "language": "python",
   "name": "python3"
  },
  "language_info": {
   "codemirror_mode": {
    "name": "ipython",
    "version": 3
   },
   "file_extension": ".py",
   "mimetype": "text/x-python",
   "name": "python",
   "nbconvert_exporter": "python",
   "pygments_lexer": "ipython3",
   "version": "3.7.12"
  },
  "orig_nbformat": 4
 },
 "nbformat": 4,
 "nbformat_minor": 2
}
